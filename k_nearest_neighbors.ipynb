{
  "nbformat": 4,
  "nbformat_minor": 0,
  "metadata": {
    "colab": {
      "name": "k_nearest_neighbors.ipynb",
      "provenance": [],
      "collapsed_sections": [],
      "authorship_tag": "ABX9TyP/J42vkWy0hBT03IEulmcV",
      "include_colab_link": true
    },
    "kernelspec": {
      "name": "python3",
      "display_name": "Python 3"
    },
    "language_info": {
      "name": "python"
    }
  },
  "cells": [
    {
      "cell_type": "markdown",
      "metadata": {
        "id": "view-in-github",
        "colab_type": "text"
      },
      "source": [
        "<a href=\"https://colab.research.google.com/github/eugenewong-ai/machine_learning_algos_from_scratch/blob/main/k_nearest_neighbors.ipynb\" target=\"_parent\"><img src=\"https://colab.research.google.com/assets/colab-badge.svg\" alt=\"Open In Colab\"/></a>"
      ]
    },
    {
      "cell_type": "markdown",
      "source": [
        "#### Author: Eugene Wong"
      ],
      "metadata": {
        "id": "SCng5JCgt71O"
      }
    },
    {
      "cell_type": "markdown",
      "source": [
        "# K NEAREST NEIGHBORS"
      ],
      "metadata": {
        "id": "lMeD64PigRsB"
      }
    },
    {
      "cell_type": "code",
      "source": [
        "import numpy as np\n",
        "import pandas as pd\n",
        "import statsmodels as stats\n",
        "import matplotlib.pyplot as plt\n",
        "import random"
      ],
      "metadata": {
        "id": "l9JgOU0bgkUR"
      },
      "execution_count": 60,
      "outputs": []
    },
    {
      "cell_type": "markdown",
      "source": [
        "## Create Pseudodata"
      ],
      "metadata": {
        "id": "-hKM--_Vqgz5"
      }
    },
    {
      "cell_type": "code",
      "source": [
        "new_point = np.array([[1,2,3]])\n",
        "other_points = [np.random.random((1,3)) for _ in range(0,10)] \n",
        "single_point = np.random.random((1,3))"
      ],
      "metadata": {
        "id": "w0c4TdabgdBX"
      },
      "execution_count": 19,
      "outputs": []
    },
    {
      "cell_type": "code",
      "source": [
        "labels = {}\n",
        "for idx in range(0,len(other_points)):\n",
        "  labels[idx] = (random.randint(0,1))"
      ],
      "metadata": {
        "id": "nTrKSxpmouR9"
      },
      "execution_count": 76,
      "outputs": []
    },
    {
      "cell_type": "code",
      "source": [
        "labels"
      ],
      "metadata": {
        "colab": {
          "base_uri": "https://localhost:8080/"
        },
        "id": "U8DDRumrpBXS",
        "outputId": "62b6ec2f-1ad7-4caa-fd9b-d0ba7d0682a4"
      },
      "execution_count": 77,
      "outputs": [
        {
          "output_type": "execute_result",
          "data": {
            "text/plain": [
              "{0: 1, 1: 1, 2: 1, 3: 1, 4: 1, 5: 1, 6: 1, 7: 1, 8: 0, 9: 1}"
            ]
          },
          "metadata": {},
          "execution_count": 77
        }
      ]
    },
    {
      "cell_type": "markdown",
      "source": [
        "## Euclidean Distance Function"
      ],
      "metadata": {
        "id": "YGVrrBqYja-M"
      }
    },
    {
      "cell_type": "code",
      "source": [
        "def euclidean_distance(single_point, new_point):\n",
        "  difference = np.subtract(new_point,single_point)\n",
        "  diff_sq = np.square(difference)\n",
        "  diff_sq_sum = np.sum(difference,axis=1)\n",
        "  return np.sqrt(diff_sq_sum)[0]"
      ],
      "metadata": {
        "id": "4LFq5Wn6iNVk"
      },
      "execution_count": 33,
      "outputs": []
    },
    {
      "cell_type": "code",
      "source": [
        "euclidean_distance(single_point, new_point)"
      ],
      "metadata": {
        "colab": {
          "base_uri": "https://localhost:8080/"
        },
        "id": "outq1pZbieL_",
        "outputId": "505b82fa-2d84-42a0-d138-c2e318ecd709"
      },
      "execution_count": 34,
      "outputs": [
        {
          "output_type": "execute_result",
          "data": {
            "text/plain": [
              "2.015270194703458"
            ]
          },
          "metadata": {},
          "execution_count": 34
        }
      ]
    },
    {
      "cell_type": "code",
      "execution_count": 85,
      "metadata": {
        "id": "PpmdpHQZgQlI"
      },
      "outputs": [],
      "source": [
        "def sorted_distance(other_points, new_point):\n",
        "  distance = {}\n",
        "  dist_sorted = []\n",
        "  for idx in range(0,len(other_points)):\n",
        "    distance[idx] = euclidean_distance(other_points[idx],new_point)\n",
        "  for _,idx in enumerate(sorted(distance, key=distance.get)): #distance.get refer to values of dict\n",
        "    dist_sorted.append((idx,distance[idx]))\n",
        "  return dist_sorted "
      ]
    },
    {
      "cell_type": "code",
      "source": [
        "sorted_distance(other_points, new_point)"
      ],
      "metadata": {
        "colab": {
          "base_uri": "https://localhost:8080/"
        },
        "id": "A3Du-SN3rsn7",
        "outputId": "c59fba63-6918-4469-ee8b-ac8b363bc117"
      },
      "execution_count": 87,
      "outputs": [
        {
          "output_type": "execute_result",
          "data": {
            "text/plain": [
              "[(8, 1.9606388627349047),\n",
              " (9, 1.9786942065718083),\n",
              " (2, 2.0015272898050362),\n",
              " (5, 2.0043500176718063),\n",
              " (0, 2.0214698527045947),\n",
              " (4, 2.0220619898453664),\n",
              " (1, 2.0685982253468285),\n",
              " (3, 2.08577198442365),\n",
              " (7, 2.1386633237154564),\n",
              " (6, 2.2234383230884958)]"
            ]
          },
          "metadata": {},
          "execution_count": 87
        }
      ]
    },
    {
      "cell_type": "markdown",
      "source": [
        "## Predict Labels"
      ],
      "metadata": {
        "id": "6vSriXECsFJi"
      }
    },
    {
      "cell_type": "code",
      "source": [
        "def predict_labels(other_points, new_point, dist_sorted, k):\n",
        "  closest_labels = []\n",
        "  for idx in range(0,k):\n",
        "    closest_labels = labels[(dist_sorted[idx][0])]\n",
        "  return round(np.mean(closest_labels))"
      ],
      "metadata": {
        "id": "5taxAQK-j1TX"
      },
      "execution_count": 103,
      "outputs": []
    },
    {
      "cell_type": "code",
      "source": [
        "predict_labels(other_points, new_point, dist_sorted, k=1) "
      ],
      "metadata": {
        "colab": {
          "base_uri": "https://localhost:8080/"
        },
        "id": "jKo1bcD4tTjX",
        "outputId": "75fc2c61-98a7-4583-c62f-d84f3891722a"
      },
      "execution_count": 104,
      "outputs": [
        {
          "output_type": "execute_result",
          "data": {
            "text/plain": [
              "0"
            ]
          },
          "metadata": {},
          "execution_count": 104
        }
      ]
    },
    {
      "cell_type": "code",
      "source": [
        "predict_labels(other_points, new_point, dist_sorted, k=3) "
      ],
      "metadata": {
        "colab": {
          "base_uri": "https://localhost:8080/"
        },
        "id": "EWzS6SAwtZZw",
        "outputId": "65ce49ef-f2f7-4739-b4e3-ac20cce3b92a"
      },
      "execution_count": 105,
      "outputs": [
        {
          "output_type": "execute_result",
          "data": {
            "text/plain": [
              "1"
            ]
          },
          "metadata": {},
          "execution_count": 105
        }
      ]
    }
  ]
}